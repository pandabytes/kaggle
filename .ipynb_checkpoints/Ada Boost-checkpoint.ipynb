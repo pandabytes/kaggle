{
 "cells": [
  {
   "cell_type": "markdown",
   "metadata": {},
   "source": [
    "<h2>Learner 2: Ada Boost</h2>"
   ]
  },
  {
   "cell_type": "code",
   "execution_count": 1,
   "metadata": {
    "collapsed": true
   },
   "outputs": [],
   "source": [
    "import numpy as np\n",
    "import matplotlib.pyplot as plt\n",
    "import mltools as ml\n",
    "from importlib import reload\n",
    "\n",
    "# Original data taken from txt files\n",
    "x = np.genfromtxt(\"X_train.txt\", delimiter = None)\n",
    "y = np.genfromtxt(\"Y_train.txt\", delimiter = None)\n",
    "x_test = np.genfromtxt(\"X_test.txt\", delimiter = None)\n",
    "\n",
    "# Extract certain data out to be validation data\n",
    "x_validation = x[10000:20000]\n",
    "y_validation = y[10000:20000]\n",
    "\n",
    "# Extract certain data out to be training data\n",
    "x_train = x[0:10000]\n",
    "y_train = y[0:10000]"
   ]
  },
  {
   "cell_type": "code",
   "execution_count": null,
   "metadata": {
    "collapsed": true
   },
   "outputs": [],
   "source": [
    "# Load data set X, Y … ; Y assumed+1 / -1 \n",
    "nBoost = 2\n",
    "learner = [None]*nBoost\n",
    "\n",
    "for i in range(nBoost): \n",
    "    xBoot, yBoot = ml.utils.bootstrapData(x_train, y_train)\n",
    "    learner[i] =  ml.dtree.treeClassify(xBoot, yBoot, maxDepth = 15, minLeaf = 4)  # traina weighted classifier\n",
    "    \n",
    "    Yhat = learner[i].predict(x_train) \n",
    "    e = wts.dot( Y != Yhat)     # compute weighted errorrate \n",
    "    \n",
    "    alpha[i] = 0.5 * np.log( (1-e)/e ) \n",
    "    wts *= np.exp( -alpha[i] * Y * Yhat)    # update weights\n",
    "    wts /= wts.sum()     # and normalize them"
   ]
  },
  {
   "cell_type": "code",
   "execution_count": null,
   "metadata": {
    "collapsed": true
   },
   "outputs": [],
   "source": [
    "# Final classifier: \n",
    "predict= np.zeros( (mTest,) ) \n",
    "for i in range(nBoost): \n",
    "predict += alpha[i] * learner[i].predict(Xtest)  # compute contribution of each model \n",
    "predict= np.sign(predict)     # and convertto +1 / -1 decision"
   ]
  }
 ],
 "metadata": {
  "kernelspec": {
   "display_name": "Python [conda root]",
   "language": "python",
   "name": "conda-root-py"
  },
  "language_info": {
   "codemirror_mode": {
    "name": "ipython",
    "version": 3
   },
   "file_extension": ".py",
   "mimetype": "text/x-python",
   "name": "python",
   "nbconvert_exporter": "python",
   "pygments_lexer": "ipython3",
   "version": "3.5.2"
  }
 },
 "nbformat": 4,
 "nbformat_minor": 1
}
