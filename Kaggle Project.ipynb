{
 "cells": [
  {
   "cell_type": "markdown",
   "metadata": {},
   "source": [
    "**Name: Huy Ngo & Po-Chien Chung**\n",
    "\n",
    "**ID: 44681348 & 63533832**\n",
    "<center><h1>Kaggle Project</h1></center>"
   ]
  },
  {
   "cell_type": "code",
   "execution_count": 2,
   "metadata": {
    "collapsed": true
   },
   "outputs": [],
   "source": [
    "import numpy as np\n",
    "import matplotlib.pyplot as plt\n",
    "import mltools as ml\n",
    "from importlib import reload\n",
    "\n",
    "# Original data taken from txt files\n",
    "x = np.genfromtxt(\"X_train.txt\", delimiter = None)\n",
    "y = np.genfromtxt(\"Y_train.txt\", delimiter = None)\n",
    "x_test = np.genfromtxt(\"X_test.txt\", delimiter = None)\n",
    "\n",
    "# Extract certain data out to be validation data\n",
    "x_validation = x[10000:20000]\n",
    "y_validation = y[10000:20000]\n",
    "\n",
    "# Extract certain data out to be training data\n",
    "x_train = x[0:10000]\n",
    "y_train = y[0:10000]"
   ]
  },
  {
   "cell_type": "code",
   "execution_count": null,
   "metadata": {
    "collapsed": true
   },
   "outputs": [],
   "source": [
    "def auc(X, Y):\n",
    "    soft = X\n",
    "    n,d = np.atleast_2d(auc_final_prediction).shape \n",
    "    soft = soft.flatten() if n==1 else soft.T.flatten()\n",
    "    \n",
    "    indices = np.argsort(soft)         # sort data by score value\n",
    "    Y = Y[indices]\n",
    "    sorted_soft = soft[indices]\n",
    "\n",
    "    # compute rank (averaged for ties) of sorted data\n",
    "    dif = np.hstack( ([True],np.diff(sorted_soft)!=0,[True]) )\n",
    "    r1  = np.argwhere(dif).flatten()\n",
    "    r2  = r1[0:-1] + 0.5*(r1[1:]-r1[0:-1]) + 0.5\n",
    "    rnk = r2[np.cumsum(dif[:-1])-1]\n",
    "\n",
    "    # number of true negatives and positives\n",
    "    n0,n1 = sum(Y == 0), sum(Y == 1)\n",
    "\n",
    "    if n0 == 0 or n1 == 0:\n",
    "      raise ValueError('Data of both class values not found')\n",
    "\n",
    "    # compute AUC using Mann-Whitney U statistic\n",
    "    result = (np.sum(rnk[Y == 1]) - n1 * (n1 + 1.0) / 2.0) / n1 / n0\n",
    "    return result"
   ]
  },
  {
   "cell_type": "markdown",
   "metadata": {},
   "source": [
    "<h2>Learner 1: Random Forest</h2>"
   ]
  },
  {
   "cell_type": "code",
   "execution_count": 4,
   "metadata": {
    "collapsed": true
   },
   "outputs": [],
   "source": [
    "# Build ensemble\n",
    "size = 5\n",
    "random_forest = [None for j in range(size)]\n",
    "auc_train = np.array([0.0 for i in range(size)])\n",
    "auc_validation = np.array([0.0 for i in range(size)])\n",
    "\n",
    "for i in range(size):\n",
    "    xBoot, yBoot = ml.utils.bootstrapData(x, y)\n",
    "    random_forest[i] = ml.dtree.treeClassify(xBoot, yBoot, maxDepth = 15, minLeaf = 4)"
   ]
  },
  {
   "cell_type": "code",
   "execution_count": 7,
   "metadata": {
    "collapsed": false
   },
   "outputs": [],
   "source": [
    "# Predict Y and upload it to Kaggle\n",
    "predictions_ensemble = [None] * size\n",
    "\n",
    "for i in range(size):\n",
    "    predictions_ensemble[i] = random_forest[i].predictSoft(x_test)"
   ]
  },
  {
   "cell_type": "code",
   "execution_count": 8,
   "metadata": {
    "collapsed": false
   },
   "outputs": [],
   "source": [
    "# Output prediction to a file\n",
    "predict = np.mean(predictions_ensemble, axis = 0)\n",
    "np.savetxt(\"Yhat_random_forest.txt\", np.vstack( (np.arange(len(predict)) , predict[:,1]) ).T,\n",
    "           '%d, %.2f',header='ID,Prob1',comments='',delimiter=',');"
   ]
  }
 ],
 "metadata": {
  "anaconda-cloud": {},
  "kernelspec": {
   "display_name": "Python [conda root]",
   "language": "python",
   "name": "conda-root-py"
  },
  "language_info": {
   "codemirror_mode": {
    "name": "ipython",
    "version": 3
   },
   "file_extension": ".py",
   "mimetype": "text/x-python",
   "name": "python",
   "nbconvert_exporter": "python",
   "pygments_lexer": "ipython3",
   "version": "3.5.2"
  }
 },
 "nbformat": 4,
 "nbformat_minor": 1
}
